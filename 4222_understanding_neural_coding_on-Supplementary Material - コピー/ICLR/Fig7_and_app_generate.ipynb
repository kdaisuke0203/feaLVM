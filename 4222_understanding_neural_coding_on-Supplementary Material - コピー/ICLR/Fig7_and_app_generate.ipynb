{
 "cells": [
  {
   "cell_type": "code",
   "execution_count": 1,
   "metadata": {
    "id": "6OZwW_UEdskk"
   },
   "outputs": [],
   "source": [
    "## Code for making Figure 7 and appendix rate maps"
   ]
  },
  {
   "cell_type": "code",
   "execution_count": 2,
   "metadata": {},
   "outputs": [],
   "source": [
    "import os\n",
    "#os.chdir('path_to_where_files_are')\n",
    "#os.getcwd()"
   ]
  },
  {
   "cell_type": "code",
   "execution_count": 3,
   "metadata": {
    "colab": {
     "base_uri": "https://localhost:8080/"
    },
    "executionInfo": {
     "elapsed": 19769,
     "status": "ok",
     "timestamp": 1653296848646,
     "user": {
      "displayName": "Martin Bjerke",
      "userId": "15362007269525850710"
     },
     "user_tz": -120
    },
    "id": "Huy9J9hOvejs",
    "outputId": "a95ba886-a4f0-450e-da50-0911bc27c059"
   },
   "outputs": [
    {
     "name": "stdout",
     "output_type": "stream",
     "text": [
      "Running on cpu\n",
      "Running on cpu\n"
     ]
    }
   ],
   "source": [
    "import matplotlib.pyplot as plt\n",
    "from matplotlib.patches import Circle\n",
    "import numpy as np\n",
    "import time\n",
    "import torch\n",
    "from scipy.stats import pearsonr\n",
    "#import pickle5 as pickle\n",
    "import sys\n",
    "from scipy.spatial import distance\n",
    "from scipy.io import loadmat\n",
    "from scipy.ndimage import gaussian_filter1d, binary_closing\n",
    "from scipy import stats\n",
    "from scipy import signal\n",
    "import time\n",
    "\n",
    "sys.path.append(os.path.join(os.getcwd(), 'NeuralLVM'))\n",
    "import NeuralLVM.training\n",
    "from NeuralLVM.training import *\n",
    "\n",
    "\n",
    "device = \"cuda\" if torch.cuda.is_available() else \"cpu\"\n",
    "print('Running on', device)\n",
    "\n",
    "skip = 3\n",
    "#grid_cell_data_test = np.loadtxt(\"spikegrid100_5000_e.csv\", delimiter=\",\")[::1,::skip]\n",
    "#grid_cell_data_train = np.loadtxt(\"spikegrid100_5000_e.csv\", delimiter=\",\")[::1,::skip]\n",
    "grid_cell_data_test = np.loadtxt(\"spikegrid100_5000_e.csv\", delimiter=\",\")[::1,::skip]\n",
    "grid_cell_data_train = np.loadtxt(\"spikegrid100_5000_e.csv\", delimiter=\",\")[::1,::skip]\n",
    "traj = np.loadtxt(\"trj_grid_e.csv\", delimiter=\",\")[::skip,:]\n",
    "\n",
    "#grid_cell_data = np.load('grid_cell_data_100ms.npy', allow_pickle=True)\n",
    "#rate_map_data = np.load('rate_map_data.npy', allow_pickle=True)"
   ]
  },
  {
   "cell_type": "code",
   "execution_count": 6,
   "metadata": {
    "colab": {
     "base_uri": "https://localhost:8080/"
    },
    "executionInfo": {
     "elapsed": 13100,
     "status": "ok",
     "timestamp": 1653296866911,
     "user": {
      "displayName": "Martin Bjerke",
      "userId": "15362007269525850710"
     },
     "user_tz": -120
    },
    "id": "l2-DNU7-vnz2",
    "outputId": "652903a1-10e0-4e3a-c893-d13136ca30d1"
   },
   "outputs": [],
   "source": [
    "## Load best bump model\n",
    "num_neuron_train = 100\n",
    "num_neuron_test = 100\n",
    "num_ensemble = 1\n",
    "latent_dim = 2\n",
    "global_seed = 42\n",
    "index = 4\n",
    "feature_type = 'bump'\n",
    "model = LatentVariableModel(\n",
    "      num_neuron_train=num_neuron_train,\n",
    "      num_neuron_test=num_neuron_test,\n",
    "      num_hidden=256,\n",
    "      num_ensemble=num_ensemble,\n",
    "      latent_dim=latent_dim,\n",
    "      seed=global_seed + index,\n",
    "      tuning_width=5.0, #10.0\n",
    "      nonlinearity='exp',\n",
    "      kernel_size=9, #9\n",
    "      feature_type=feature_type,\n",
    "      num_feature_basis=50, #10\n",
    "  ).to(device)\n",
    "trainer = Trainer(\n",
    "      model=model,\n",
    "      #data_train=grid_cell_data.item()['y_train'],\n",
    "      data_train=grid_cell_data_test,\n",
    "      data_test=grid_cell_data_train,\n",
    "      #neurons_train_ind=grid_cell_data.item()['neurons_train_ind'],\n",
    "      #neurons_train_ind=np.array([0,1,2]),\n",
    "      neurons_train_ind=np.arange(0, 100, 1),\n",
    "      mode='full',\n",
    "      z_train=None,\n",
    "      z_test=None,\n",
    "      num_steps=30000,\n",
    "      batch_size=64,\n",
    "      seed=global_seed + index,\n",
    "      learning_rate=3e-3,\n",
    "      num_worse=10, # if loss doesn't improve X times, stop.\n",
    "      weight_entropy=1e-3\n",
    "  )\n",
    "\n",
    "#model.load_state_dict(torch.load('model.pth'))"
   ]
  },
  {
   "cell_type": "code",
   "execution_count": null,
   "metadata": {
    "colab": {
     "base_uri": "https://localhost:8080/",
     "height": 297
    },
    "executionInfo": {
     "elapsed": 1616,
     "status": "ok",
     "timestamp": 1653296880072,
     "user": {
      "displayName": "Martin Bjerke",
      "userId": "15362007269525850710"
     },
     "user_tz": -120
    },
    "id": "FznZMZXRVp6B",
    "outputId": "234177db-4312-4bb4-f95f-48c8ace85382"
   },
   "outputs": [
    {
     "name": "stdout",
     "output_type": "stream",
     "text": [
      "run=1000, running_loss=-1.9403e+03, negLLH_train=-4.9158e+00, negLLH_test=-4.3772e+00, KL_normal=1.3072e+00, Slowness_loss=9.6688e-01, corr=0.448929, H=-9.5367e-07, time=5.10\n",
      "run=2000, running_loss=-5.4816e+03, negLLH_train=-7.2154e+00, negLLH_test=-5.9332e+00, KL_normal=2.4760e+00, Slowness_loss=8.8504e-01, corr=0.573642, H=-9.5367e-07, time=10.67\n",
      "run=3000, running_loss=-6.5048e+03, negLLH_train=-7.8461e+00, negLLH_test=-5.2071e+00, KL_normal=2.5042e+00, Slowness_loss=8.1352e-01, corr=0.564344, H=-9.5367e-07, time=16.18\n",
      "run=4000, running_loss=-6.9715e+03, negLLH_train=-7.9865e+00, negLLH_test=-6.3816e+00, KL_normal=2.5811e+00, Slowness_loss=7.7125e-01, corr=0.593401, H=-9.5367e-07, time=22.15\n",
      "run=5000, running_loss=-7.1188e+03, negLLH_train=-7.9966e+00, negLLH_test=-6.4665e+00, KL_normal=2.5677e+00, Slowness_loss=7.7884e-01, corr=0.599844, H=-9.5367e-07, time=28.63\n",
      "run=6000, running_loss=-7.1183e+03, negLLH_train=-8.0107e+00, negLLH_test=-6.5965e+00, KL_normal=2.6893e+00, Slowness_loss=7.6569e-01, corr=0.619351, H=-9.5367e-07, time=34.66\n",
      "run=7000, running_loss=-7.2226e+03, negLLH_train=-8.0127e+00, negLLH_test=-6.4983e+00, KL_normal=2.7682e+00, Slowness_loss=8.1842e-01, corr=0.606163, H=-9.5367e-07, time=40.93\n",
      "run=8000, running_loss=-7.1942e+03, negLLH_train=-8.1378e+00, negLLH_test=-6.8948e+00, KL_normal=2.4936e+00, Slowness_loss=8.6888e-01, corr=0.685885, H=-9.5367e-07, time=47.54\n",
      "run=9000, running_loss=-7.5803e+03, negLLH_train=-8.1697e+00, negLLH_test=-7.1923e+00, KL_normal=2.6025e+00, Slowness_loss=8.9585e-01, corr=0.749290, H=-9.5367e-07, time=54.42\n",
      "run=10000, running_loss=-7.8544e+03, negLLH_train=-8.6519e+00, negLLH_test=-8.2389e+00, KL_normal=2.6509e+00, Slowness_loss=9.8670e-01, corr=0.911670, H=-9.5367e-07, time=61.00\n",
      "run=11000, running_loss=-8.4515e+03, negLLH_train=-8.6602e+00, negLLH_test=-8.2535e+00, KL_normal=2.5527e+00, Slowness_loss=9.9045e-01, corr=0.914084, H=-9.5367e-07, time=67.74\n",
      "run=12000, running_loss=-8.1689e+03, negLLH_train=-8.6650e+00, negLLH_test=-8.2325e+00, KL_normal=2.6459e+00, Slowness_loss=9.9547e-01, corr=0.910735, H=-9.5367e-07, time=74.52\n",
      "run=13000, running_loss=-8.3554e+03, negLLH_train=-8.6648e+00, negLLH_test=-8.2982e+00, KL_normal=2.6361e+00, Slowness_loss=9.7988e-01, corr=0.917578, H=-9.5367e-07, time=81.07\n",
      "run=14000, running_loss=-8.1945e+03, negLLH_train=-8.6651e+00, negLLH_test=-8.2767e+00, KL_normal=2.6415e+00, Slowness_loss=9.8691e-01, corr=0.914572, H=-9.5367e-07, time=87.91\n",
      "run=15000, running_loss=-8.3426e+03, negLLH_train=-8.6643e+00, negLLH_test=-8.3122e+00, KL_normal=2.5770e+00, Slowness_loss=9.7980e-01, corr=0.919578, H=-9.5367e-07, time=95.19\n",
      "run=16000, running_loss=-8.3986e+03, negLLH_train=-8.6626e+00, negLLH_test=-8.2487e+00, KL_normal=2.5939e+00, Slowness_loss=9.8045e-01, corr=0.913005, H=-9.5367e-07, time=102.25\n",
      "run=17000, running_loss=-8.4026e+03, negLLH_train=-8.6613e+00, negLLH_test=-8.3166e+00, KL_normal=2.4121e+00, Slowness_loss=9.8197e-01, corr=0.917505, H=-9.5367e-07, time=109.66\n",
      "run=18000, running_loss=-8.5798e+03, negLLH_train=-8.6673e+00, negLLH_test=-8.3026e+00, KL_normal=2.6898e+00, Slowness_loss=9.7899e-01, corr=0.917528, H=-9.5367e-07, time=116.71\n",
      "run=19000, running_loss=-8.3341e+03, negLLH_train=-8.6630e+00, negLLH_test=-8.2872e+00, KL_normal=2.5544e+00, Slowness_loss=9.8244e-01, corr=0.913721, H=-9.5367e-07, time=123.56\n",
      "run=20000, running_loss=-8.3775e+03, negLLH_train=-8.6647e+00, negLLH_test=-8.3116e+00, KL_normal=2.6422e+00, Slowness_loss=9.8147e-01, corr=0.917474, H=-9.5367e-07, time=130.55\n",
      "run=21000, running_loss=-8.2971e+03, negLLH_train=-8.6700e+00, negLLH_test=-8.3274e+00, KL_normal=2.6972e+00, Slowness_loss=9.8447e-01, corr=0.919034, H=-9.5367e-07, time=137.29\n",
      "run=22000, running_loss=-8.3653e+03, negLLH_train=-8.6682e+00, negLLH_test=-8.3170e+00, KL_normal=2.6099e+00, Slowness_loss=9.8505e-01, corr=0.919315, H=-9.5367e-07, time=144.05\n"
     ]
    }
   ],
   "source": [
    "#print(model)\n",
    "trainer.train()"
   ]
  },
  {
   "cell_type": "code",
   "execution_count": null,
   "metadata": {},
   "outputs": [],
   "source": [
    "_, _, z_, _, _ = model(torch.tensor(grid_cell_data_train, dtype=torch.float32, device=device)[trainer.neurons_train_ind], z=None)\n",
    "print(z_.shape)\n",
    "print(z_)\n",
    "z_mu = z_[0,:,0,:]\n",
    "print(z_mu.shape)\n",
    "z_mu = z_mu.to('cpu').detach().numpy().copy()\n",
    "print(z_mu.shape[0])\n",
    "plt.figure(figsize=(15,5))\n",
    "plt.scatter(np.arange(z_mu.shape[0]), z_mu[:,0], marker = \".\", color = \"k\", s = 100)\n",
    "#for i in range(len(thetas)-1):\n",
    "  #x1, x2 = thetas[i], thetas[i+1]\n",
    "  #if np.abs(x1-x2) < np.pi: plt.plot([i, i+1], [x1, x2], \"k-\")\n",
    "plt.xlabel('time (a.u.)')\n",
    "plt.ylabel(r'$\\theta$')\n",
    "plt.show()\n",
    "plt.figure(figsize=(15,5))\n",
    "plt.scatter(np.arange(z_mu.shape[0]), z_mu[:,1], marker = \".\", color = \"k\", s = 100)\n",
    "#for i in range(len(thetas)-1):\n",
    "  #x1, x2 = thetas[i], thetas[i+1]\n",
    "  #if np.abs(x1-x2) < np.pi: plt.plot([i, i+1], [x1, x2], \"k-\")\n",
    "plt.xlabel('time (a.u.)')\n",
    "plt.ylabel(r'$\\theta$')\n",
    "plt.show()"
   ]
  },
  {
   "cell_type": "code",
   "execution_count": null,
   "metadata": {},
   "outputs": [],
   "source": [
    "threshold = .0\n",
    "for t in range(30):\n",
    "    thetas_b = np.copy(z_mu)\n",
    "    for i in range(z_mu.shape[0]-1):\n",
    "        #print(thetas.shape)\n",
    "        if thetas_b[i+1,0] - thetas_b[i,0] > 2*np.pi-threshold - t/15:\n",
    "            thetas_b[i+1:,0] -= 2*np.pi#qz_est_norm[i+1,0] - qz_est_norm[i,0]\n",
    "        if thetas_b[i+1,1] - thetas_b[i,1] > 2*np.pi-threshold - t/15:\n",
    "            thetas_b[i+1:,1] -= 2*np.pi#qz_est_norm[i+1,1] - qz_est_norm[i,1]\n",
    "        if thetas_b[i+1,0] - thetas_b[i,0] < - 2*np.pi+threshold + t/15:\n",
    "            thetas_b[i+1:,0] += 2*np.pi#qz_est_norm[i,0] - qz_est_norm[i+1,0]\n",
    "        if thetas_b[i+1,1] - thetas_b[i,1] < - 2*np.pi+threshold + t/15:\n",
    "            thetas_b[i+1:,1] += 2*np.pi#qz_est_norm[i,1] - qz_est_norm[i+1,1]\n",
    "\n",
    "    #R = funs.compute_optimal_rotation(traj[:time,:],thetas, scale=0)\n",
    "    #theta = -np.pi/6 - np.pi\n",
    "    #R = np.array([[np.cos(theta), -np.sin(theta)],[np.sin(theta), np.cos(theta)]])\n",
    "    #R = np.array([[1, np.sin(theta)],[0, np.cos(theta)]])\n",
    "    #R = np.array([[0, 1],[1, -1.73]])\n",
    "    #qz_est_norm = qz_est_norm.dot(R)\n",
    "    #plt.scatter(qz_est_norm[:,0],qz_est_norm[:,1])\n",
    "    plt.figure()\n",
    "    plt.plot(thetas_b[:,0],thetas_b[:,1],c=\"r\",linewidth=.5)"
   ]
  },
  {
   "cell_type": "code",
   "execution_count": null,
   "metadata": {
    "executionInfo": {
     "elapsed": 1328,
     "status": "ok",
     "timestamp": 1653296890981,
     "user": {
      "displayName": "Martin Bjerke",
      "userId": "15362007269525850710"
     },
     "user_tz": -120
    },
    "id": "jxOtsHsWodOG"
   },
   "outputs": [],
   "source": [
    "import copy\n",
    "model_copy = copy.deepcopy(model)\n",
    "\n",
    "def compute_poisson_loss_by_n(y, y_):\n",
    "    return torch.mean(y_ - y * torch.log(y_ + 1e-9), dim=1)\n",
    "\n",
    "_, _, z_, _, _ = model(torch.tensor(grid_cell_data.item()['y_train'], dtype=torch.float32, device=device)[trainer.neurons_train_ind], z=None)\n",
    "\n",
    "## All weights to 0-1  \n",
    "model_copy.ensemble_weights_train.data[:, 0] = -10**6\n",
    "model_copy.ensemble_weights_train.data[:, 1] = 10**6\n",
    "#llh_1 = torch.zeros(model_copy.ensemble_weights_train.size(0), device='cpu')\n",
    "\n",
    "y_1, _, _, _, _ = model_copy(torch.tensor(grid_cell_data.item()['y_train'][grid_cell_data.item()['neurons_train_ind']], dtype=torch.float32, device=device), z=z_)\n",
    "llh_train_train = compute_poisson_loss_by_n(\n",
    "    torch.tensor(grid_cell_data.item()['y_train'][trainer.neurons_train_ind], dtype=torch.float32, device=device), y_1[:,:])\n",
    "llh_1 = (llh_train_train.to(device='cpu'))\n",
    "\n",
    "## All weights to 1-0\n",
    "model_copy.ensemble_weights_train.data[:, 0] = 10**6\n",
    "model_copy.ensemble_weights_train.data[:, 1] = -10**6\n",
    "##llh_2 = torch.zeros(model_copy.ensemble_weights_train.size(0), device='cpu')\n",
    "\n",
    "y_2, _, _, _, _ = model_copy(torch.tensor(grid_cell_data.item()['y_train'][grid_cell_data.item()['neurons_train_ind']], dtype=torch.float32, device=device), z=z_)\n",
    "llh_train_train = compute_poisson_loss_by_n(\n",
    "    torch.tensor(grid_cell_data.item()['y_train'][trainer.neurons_train_ind], dtype=torch.float32, device=device), y_2[:,:])\n",
    "\n",
    "llh_2 = (llh_train_train.to(device='cpu'))"
   ]
  },
  {
   "cell_type": "code",
   "execution_count": null,
   "metadata": {
    "colab": {
     "base_uri": "https://localhost:8080/",
     "height": 281
    },
    "executionInfo": {
     "elapsed": 484,
     "status": "ok",
     "timestamp": 1653296896501,
     "user": {
      "displayName": "Martin Bjerke",
      "userId": "15362007269525850710"
     },
     "user_tz": -120
    },
    "id": "A0OjaRmxpgnO",
    "outputId": "4686948c-6e25-46c3-defc-f924edeea90c"
   },
   "outputs": [],
   "source": [
    "## Plot greedy LLH\n",
    "color_ens = ['#FF800E']*148 + ['#006BA4']*145\n",
    "fig, ax = plt.subplots(figsize=(4,4))\n",
    "ax.scatter(llh_1.detach().numpy(), llh_2.detach().numpy(), c=color_ens, s=15)\n",
    "ax.plot([0, 1], [0, 1], transform=ax.transAxes, ls='--', c='black')\n",
    "ax.set_aspect(1.0/ax.get_data_ratio(), adjustable='box')\n",
    "ax.set_xlabel('NLLH ens. 1', fontsize=20)\n",
    "ax.set_ylabel('NLLH ens. 2', fontsize=20)\n",
    "ax.set_yticks([0.25,0.5,0.75,1.00,1.25])\n",
    "ax.set_xticks([0.25,0.5,0.75,1.00,1.25])\n",
    "ax.tick_params(axis='x', labelsize=15)\n",
    "ax.tick_params(axis='y', labelsize=15)\n",
    "ax.grid()\n",
    "ax.set_ylim(bottom=0)\n",
    "ax.set_xlim(left=0)\n",
    "fig.tight_layout()\n",
    "#fig.savefig(time.strftime(\"./plots/%Y-%m-%d-\") + \"Fig5_ens_liks.pdf\")"
   ]
  },
  {
   "cell_type": "code",
   "execution_count": null,
   "metadata": {
    "executionInfo": {
     "elapsed": 418,
     "status": "ok",
     "timestamp": 1653296906601,
     "user": {
      "displayName": "Martin Bjerke",
      "userId": "15362007269525850710"
     },
     "user_tz": -120
    },
    "id": "W0wsfFofvyx-"
   },
   "outputs": [],
   "source": [
    "## Load bins, tor. coord.s, ensemble weights and rfs\n",
    "rec_spikes = rate_map_data.item()['binnedspikes']\n",
    "y1_, y2_, z_, mu, logvar = model(torch.tensor(grid_cell_data.item()['y_train'], dtype=torch.float32, device=device)[trainer.neurons_train_ind], z=None)\n",
    "z_ = z_.detach().cpu().numpy()\n",
    "ensemble_weights_train = torch.nn.functional.softmax(model.ensemble_weights_train, dim=1).detach().cpu().numpy()\n",
    "ensemble_weights_train2 = ensemble_weights_train.copy()\n",
    "ensemble_weights_train2 = (ensemble_weights_train2 == ensemble_weights_train2.max(axis=1)[:,None]).astype(int)\n",
    "\n",
    "ensemble_weights_test = torch.nn.functional.softmax(\n",
    "    model.ensemble_weights_test, dim=1).detach().cpu().numpy()\n",
    "ensemble_weights_test2 = ensemble_weights_test.copy()\n",
    "ensemble_weights_test2 = (ensemble_weights_test2 == ensemble_weights_test2.max(axis=1)[:,None]).astype(int)\n",
    "weights_full_2 = np.insert(ensemble_weights_train2, int(np.argwhere((grid_cell_data.item()['neurons_train_ind'])==False)[0,0]), ensemble_weights_test2[0,:], axis=0)\n",
    "\n",
    "rfs = model.receptive_fields_train.detach().cpu().numpy()\n",
    "rf_width = np.sqrt(np.exp(model.feature_basis.log_tuning_width.detach().cpu().numpy()))\n",
    "rfs_full = np.insert(model.receptive_fields_train.detach().cpu().numpy(),\n",
    "                     int(np.argwhere((grid_cell_data.item()['neurons_train_ind'])==False)[0,0]),\n",
    "                     model.receptive_fields_test.detach().cpu().numpy()[0,:,:], axis=0)"
   ]
  },
  {
   "cell_type": "code",
   "execution_count": null,
   "metadata": {
    "colab": {
     "base_uri": "https://localhost:8080/",
     "height": 350
    },
    "executionInfo": {
     "elapsed": 413,
     "status": "ok",
     "timestamp": 1653296911236,
     "user": {
      "displayName": "Martin Bjerke",
      "userId": "15362007269525850710"
     },
     "user_tz": -120
    },
    "id": "ai49-Wi-h9-b",
    "outputId": "9b9d58ed-9fda-43ac-f3a2-cb190613ee1d"
   },
   "outputs": [],
   "source": [
    "## Plot acc removed\n",
    "true_weights = np.zeros(weights_full_2.shape)\n",
    "\n",
    "true_weights[:149,0] = 1\n",
    "true_weights[149:,1] = 1\n",
    "\n",
    "acc1 = (true_weights == weights_full_2)\n",
    "acc1 = np.all(acc1, axis=1)\n",
    "acc1 = np.sum(acc1)/len(acc1)\n",
    "print(acc1)\n",
    "acc2 = (true_weights == 1-weights_full_2)\n",
    "acc2 = np.all(acc2, axis=1)\n",
    "acc2 = np.sum(acc2)/len(acc2)\n",
    "print(acc2)\n",
    "print(\"\")\n",
    "\n",
    "acc_list = []\n",
    "for k in range(144):\n",
    "  tot_mod1 = 149\n",
    "  tot_mod2 = 145\n",
    "  k_mod1 = tot_mod1 - k\n",
    "  k_mod2 = 145 - k\n",
    "  acc1_rem = np.delete((true_weights == weights_full_2), np.concatenate((np.arange(k_mod1, tot_mod1), np.arange(tot_mod1 + k_mod2, tot_mod1 + tot_mod2))), axis=0)\n",
    "  acc1_rem = np.all(acc1_rem, axis=1)\n",
    "  acc1_rem = np.sum(acc1_rem)/len(acc1_rem)\n",
    "  #print(acc1_rem)\n",
    "  acc2_rem = np.delete((true_weights == 1-weights_full_2), np.concatenate((np.arange(k_mod1, tot_mod1), np.arange(tot_mod1 + k_mod2, tot_mod1 + tot_mod2))), axis=0)\n",
    "  acc2_rem = np.all(acc2_rem, axis=1)\n",
    "  acc2_rem = np.sum(acc2_rem)/len(acc2_rem)\n",
    "  #print(acc2_rem)\n",
    "  acc = np.max([acc1_rem, acc2_rem])\n",
    "  acc_list.append(acc)\n",
    "  \n",
    "fig, ax = plt.subplots(figsize=(6,4))\n",
    "ax.plot(acc_list, color='#006BA4')\n",
    "#plt.ylim(0.5,1.01)\n",
    "ax.tick_params(axis='x', labelsize=15)\n",
    "ax.tick_params(axis='y', labelsize=15)\n",
    "ax.set_xlabel('Neurons removed', fontsize=20)\n",
    "ax.set_ylabel('Accuracy', fontsize=20)\n",
    "ax.grid()\n",
    "fig.tight_layout()\n",
    "#fig.savefig(time.strftime(\"./plots/%Y-%m-%d-\") + \"Fig5_acc_removed.pdf\")"
   ]
  },
  {
   "cell_type": "code",
   "execution_count": null,
   "metadata": {
    "colab": {
     "base_uri": "https://localhost:8080/",
     "height": 297
    },
    "executionInfo": {
     "elapsed": 852,
     "status": "ok",
     "timestamp": 1653296916692,
     "user": {
      "displayName": "Martin Bjerke",
      "userId": "15362007269525850710"
     },
     "user_tz": -120
    },
    "id": "0s0mWTBOKEqV",
    "outputId": "44803a7e-e0d9-48a1-e66d-567386c1b165"
   },
   "outputs": [],
   "source": [
    "# Plot ensemble_weights\n",
    "colors = np.array(['#006BA4', '#FF800E'])\n",
    "test_weight = torch.nn.functional.softmax(\n",
    "    model.ensemble_weights_test, dim=1).detach().cpu().numpy()\n",
    "weights_full = np.insert(ensemble_weights_train, int(np.argwhere((grid_cell_data.item()['neurons_train_ind'])==False)[0,0]), test_weight[0,:], axis=0)\n",
    "fig, ax = plt.subplots(1,1, figsize=(8,4))\n",
    "n_list = np.arange(294) + 1\n",
    "for i,col in enumerate(colors):\n",
    "  ax.plot(n_list, weights_full[:,i], color=col)\n",
    "#plt.legend(np.arange(num_ensemble))\n",
    "#plt.title('Ensemble Weights')\n",
    "#ax.spines['right'].set_visible(False)\n",
    "#ax.spines['top'].set_visible(False)\n",
    "ax.axvline(x=149.5, color='black', linestyle='--')\n",
    "ax.set_xlabel('Neurons', fontsize=20)\n",
    "ax.set_ylabel('Weights', fontsize=20)\n",
    "ax.set_xticks([1, 50, 100, 150, 200, 250, 294])\n",
    "ax.tick_params(axis='x', labelsize=15)\n",
    "ax.tick_params(axis='y', labelsize=15)\n",
    "ax.set_xlim(-2, 296)\n",
    "ax.set_yticks([0,0.25,0.5,0.75,1.00])\n",
    "#ax.set_ylim(0, 1)\n",
    "ax.yaxis.grid(True)\n",
    "fig.tight_layout()\n",
    "fig.show()\n",
    "#fig.savefig(time.strftime(\"./plots/%Y-%m-%d-\") + \"Fig5_weights_v3.pdf\")"
   ]
  },
  {
   "cell_type": "code",
   "execution_count": null,
   "metadata": {
    "executionInfo": {
     "elapsed": 429,
     "status": "ok",
     "timestamp": 1653296921280,
     "user": {
      "displayName": "Martin Bjerke",
      "userId": "15362007269525850710"
     },
     "user_tz": -120
    },
    "id": "cFT4SZUfw33G"
   },
   "outputs": [],
   "source": [
    "## smooth images\n",
    "def smooth_image(img, sigma):\n",
    "  filterSize = max(np.shape(img))\n",
    "  grid = np.arange(-filterSize+1, filterSize, 1)\n",
    "  # covariance = np.square([sigma, sigma])\n",
    "  xx,yy = np.meshgrid(grid, grid)\n",
    "\n",
    "  pos = np.dstack((xx, yy))\n",
    "\n",
    "  var = stats.multivariate_normal(mean=[0,0], cov=[[sigma**2,0],[0,sigma**2]])\n",
    "  k = var.pdf(pos)\n",
    "  k = k/np.sum(k)\n",
    "\n",
    "  nans = np.isnan(img)\n",
    "  imgA = img.copy()\n",
    "  imgA[nans] = 0\n",
    "  imgA = signal.convolve2d(imgA, k, mode='valid')\n",
    "  imgD = img.copy()\n",
    "  imgD[nans] = 0\n",
    "  imgD[~nans] = 1\n",
    "  radius = 1\n",
    "  L = np.arange(-radius, radius + 1)\n",
    "  X, Y = np.meshgrid(L, L)\n",
    "  dk = np.array((X ** 2 + Y ** 2) <= radius ** 2, dtype=bool)\n",
    "  imgE = np.zeros((filterSize+2,filterSize+2))\n",
    "  imgE[1:-1,1:-1] = imgD\n",
    "  imgE= binary_closing(imgE,iterations =1, structure =dk)\n",
    "  imgD = imgE[1:-1,1:-1]\n",
    "\n",
    "  imgB = np.divide(signal.convolve2d(imgD, k, mode='valid'), signal.convolve2d(np.ones(np.shape(imgD)), k, mode='valid'))\n",
    "  imgC = np.divide(imgA,imgB)\n",
    "  imgC[imgD==0] = -np.inf\n",
    "  return imgC"
   ]
  },
  {
   "cell_type": "code",
   "execution_count": null,
   "metadata": {
    "colab": {
     "base_uri": "https://localhost:8080/",
     "height": 1000
    },
    "executionInfo": {
     "elapsed": 5099,
     "status": "ok",
     "timestamp": 1653057729305,
     "user": {
      "displayName": "Martin Bjerke",
      "userId": "15362007269525850710"
     },
     "user_tz": -120
    },
    "id": "4XacWnvwyaOQ",
    "outputId": "01632128-9376-4cab-dc4f-915a7d71f741"
   },
   "outputs": [],
   "source": [
    "## Plot receptive fields\n",
    "\n",
    "cnt = 0\n",
    "box_bins = 50\n",
    "torus_bins = 50\n",
    "for j,i in enumerate(range(293)[::25]):\n",
    "    if not (j%3):\n",
    "      fig = plt.figure(figsize=(6,9))\n",
    "      cnt += 1\n",
    "\n",
    "    if i > 101:\n",
    "      idx = i + 1\n",
    "    else:\n",
    "      idx = i\n",
    "  \n",
    "    plot_num_1 = (2*j)%6 + 1\n",
    "    plot_num_2 = (2*j)%6 + 2\n",
    "    ax = plt.subplot(3, 2, plot_num_1)\n",
    "    bx = plt.subplot(3, 2, plot_num_2)\n",
    "    \n",
    "    box_field, _, _, _ = stats.binned_statistic_2d(rate_map_data.item()['x_pos'], rate_map_data.item()['y_pos'],\n",
    "                                                   rec_spikes[idx,:], statistic = 'mean',\n",
    "                                                   bins=box_bins, range=None, expand_binnumbers=True)  \n",
    "\n",
    "    torus_field, _, _, _ = stats.binned_statistic_2d(z_[0, :, (1 - ensemble_weights_train2)[i, 0], 1]%(2*np.pi), z_[0, :, (1 - ensemble_weights_train2)[i, 0], 0]%(2*np.pi),\n",
    "                                                     grid_cell_data.item()['y_train'][idx, :], statistic = 'mean',\n",
    "                                                     bins=torus_bins, range=None, expand_binnumbers=True)\n",
    "\n",
    "    ax.imshow(smooth_image(box_field,2.75), cmap='viridis')\n",
    "    ax.set_xlim(0, box_bins-2)\n",
    "    ax.set_ylim(0, box_bins-2)\n",
    "    ax.get_xaxis().set_visible(False)\n",
    "    ax.get_yaxis().set_visible(False)\n",
    "\n",
    "    bx.imshow(smooth_image(torus_field, 2.75), cmap='viridis')\n",
    "    t1 = (rfs[i, (1 - ensemble_weights_train2)[i, 0], 0]%(2*np.pi))*(torus_bins/(2*np.pi))\n",
    "    t2 = (rfs[i, (1 - ensemble_weights_train2)[i, 0], 1]%(2*np.pi))*(torus_bins/(2*np.pi))\n",
    "    bx.scatter(t1, t2, s=200, c='red', marker='o', edgecolor='black')\n",
    "    circ_1 = Circle((t1, t2), 1*rf_width*(torus_bins/(2*np.pi)), facecolor='None', edgecolor='black', lw=4, zorder=10, linestyle='-')\n",
    "    circ_2 = Circle((t1, t2), 1*rf_width*(torus_bins/(2*np.pi)), facecolor='None', edgecolor='red', lw=2, zorder=11, linestyle='-')\n",
    "    bx.add_patch(circ_1)\n",
    "    bx.add_patch(circ_2)\n",
    "\n",
    "    bx.scatter(t1-torus_bins, t2, s=200, c='red', marker='o', edgecolor='black')\n",
    "    bx.scatter(t1+torus_bins, t2, s=200, c='red', marker='o', edgecolor='black')\n",
    "    bx.scatter(t1, t2-torus_bins, s=200, c='red', marker='o', edgecolor='black')\n",
    "    bx.scatter(t1, t2+torus_bins, s=200, c='red', marker='o', edgecolor='black')\n",
    "    bx.scatter(t1-torus_bins, t2-torus_bins, s=200, c='red', marker='o', edgecolor='black')\n",
    "    bx.scatter(t1+torus_bins, t2-torus_bins, s=200, c='red', marker='o', edgecolor='black')\n",
    "    bx.scatter(t1-torus_bins, t2+torus_bins, s=200, c='red', marker='o', edgecolor='black')\n",
    "    bx.scatter(t1+torus_bins, t2+torus_bins, s=200, c='red', marker='o', edgecolor='black')\n",
    "\n",
    "    circ_11 = Circle((t1-torus_bins, t2), 1*rf_width*(torus_bins/(2*np.pi)), facecolor='None', edgecolor='black', lw=4, zorder=10, linestyle='-')\n",
    "    circ_21 = Circle((t1-torus_bins, t2), 1*rf_width*(torus_bins/(2*np.pi)), facecolor='None', edgecolor='red', lw=2, zorder=11, linestyle='-')\n",
    "    circ_12 = Circle((t1+torus_bins, t2), 1*rf_width*(torus_bins/(2*np.pi)), facecolor='None', edgecolor='black', lw=4, zorder=10, linestyle='-')\n",
    "    circ_22 = Circle((t1+torus_bins, t2), 1*rf_width*(torus_bins/(2*np.pi)), facecolor='None', edgecolor='red', lw=2, zorder=11, linestyle='-')\n",
    "    circ_13 = Circle((t1, t2-torus_bins), 1*rf_width*(torus_bins/(2*np.pi)), facecolor='None', edgecolor='black', lw=4, zorder=10, linestyle='-')\n",
    "    circ_23 = Circle((t1, t2-torus_bins), 1*rf_width*(torus_bins/(2*np.pi)), facecolor='None', edgecolor='red', lw=2, zorder=11, linestyle='-')\n",
    "    circ_14 = Circle((t1, t2+torus_bins), 1*rf_width*(torus_bins/(2*np.pi)), facecolor='None', edgecolor='black', lw=4, zorder=10, linestyle='-')\n",
    "    circ_24 = Circle((t1, t2+torus_bins), 1*rf_width*(torus_bins/(2*np.pi)), facecolor='None', edgecolor='red', lw=2, zorder=11, linestyle='-')\n",
    "    circ_15 = Circle((t1-torus_bins, t2-torus_bins), 1*rf_width*(torus_bins/(2*np.pi)), facecolor='None', edgecolor='black', lw=4, zorder=10, linestyle='-')\n",
    "    circ_25 = Circle((t1-torus_bins, t2-torus_bins), 1*rf_width*(torus_bins/(2*np.pi)), facecolor='None', edgecolor='red', lw=2, zorder=11, linestyle='-')\n",
    "    circ_16 = Circle((t1+torus_bins, t2-torus_bins), 1*rf_width*(torus_bins/(2*np.pi)), facecolor='None', edgecolor='black', lw=4, zorder=10, linestyle='-')\n",
    "    circ_26 = Circle((t1+torus_bins, t2-torus_bins), 1*rf_width*(torus_bins/(2*np.pi)), facecolor='None', edgecolor='red', lw=2, zorder=11, linestyle='-')\n",
    "    circ_17 = Circle((t1-torus_bins, t2+torus_bins), 1*rf_width*(torus_bins/(2*np.pi)), facecolor='None', edgecolor='black', lw=4, zorder=10, linestyle='-')\n",
    "    circ_27 = Circle((t1-torus_bins, t2+torus_bins), 1*rf_width*(torus_bins/(2*np.pi)), facecolor='None', edgecolor='red', lw=2, zorder=11, linestyle='-')\n",
    "    circ_18 = Circle((t1+torus_bins, t2+torus_bins), 1*rf_width*(torus_bins/(2*np.pi)), facecolor='None', edgecolor='black', lw=4, zorder=10, linestyle='-')\n",
    "    circ_28 = Circle((t1+torus_bins, t2+torus_bins), 1*rf_width*(torus_bins/(2*np.pi)), facecolor='None', edgecolor='red', lw=2, zorder=11, linestyle='-')\n",
    "\n",
    "    bx.add_patch(circ_11)\n",
    "    bx.add_patch(circ_12)\n",
    "    bx.add_patch(circ_13)\n",
    "    bx.add_patch(circ_14)\n",
    "    bx.add_patch(circ_15)\n",
    "    bx.add_patch(circ_16)\n",
    "    bx.add_patch(circ_17)\n",
    "    bx.add_patch(circ_18)\n",
    "    bx.add_patch(circ_21)\n",
    "    bx.add_patch(circ_22)\n",
    "    bx.add_patch(circ_23)\n",
    "    bx.add_patch(circ_24)\n",
    "    bx.add_patch(circ_25)\n",
    "    bx.add_patch(circ_26)\n",
    "    bx.add_patch(circ_27)\n",
    "    bx.add_patch(circ_28)\n",
    "\n",
    "    bx.set_xlim(0, torus_bins-2)\n",
    "    bx.set_ylim(0, torus_bins-2)\n",
    "    bx.get_xaxis().set_visible(False)\n",
    "    bx.get_yaxis().set_visible(False)\n",
    "    \n",
    "    if plot_num_1 == 1:\n",
    "      ax.set_title(\"Open Field\", fontsize=20)\n",
    "    if plot_num_2 == 2:\n",
    "      bx.set_title(\"Toroidal\", fontsize=20)\n",
    "  \n",
    "    #fig.savefig(time.strftime(\"./plots/%Y-%m-%d-\") + \"Fig5_\" + str(cnt) + \"_smooth_cont.pdf\")"
   ]
  },
  {
   "cell_type": "code",
   "execution_count": null,
   "metadata": {
    "colab": {
     "base_uri": "https://localhost:8080/",
     "height": 1000,
     "output_embedded_package_id": "11fT-eR6JMieEGjRA6k4iOdOvCdQK0UPW"
    },
    "executionInfo": {
     "elapsed": 110036,
     "status": "ok",
     "timestamp": 1653305870713,
     "user": {
      "displayName": "Martin Bjerke",
      "userId": "15362007269525850710"
     },
     "user_tz": -120
    },
    "id": "qWVFej553f3d",
    "outputId": "6fbb6d0c-03f7-463d-d4d5-9842ce669c51"
   },
   "outputs": [],
   "source": [
    "## Plot receptive fields, appendix\n",
    "\n",
    "cnt = 0\n",
    "box_bins = 50\n",
    "torus_bins = 50\n",
    "rows = 22\n",
    "cols = 14\n",
    "for i in range(294):\n",
    "\n",
    "    if i == 0 or i == 149:\n",
    "      fig = plt.figure(figsize=(30,48))\n",
    "\n",
    "    ax = plt.subplot(rows, cols, 2*(i%149) + 1)\n",
    "    bx = plt.subplot(rows, cols, 2*(i%149) + 2)\n",
    "    \n",
    "    box_field, _, _, _ = stats.binned_statistic_2d(rate_map_data.item()['x_pos'], rate_map_data.item()['y_pos'],\n",
    "                                                   rec_spikes[i,:], statistic = 'mean',\n",
    "                                                   bins=box_bins, range=None, expand_binnumbers=True)  \n",
    "\n",
    "    torus_field, _, _, _ = stats.binned_statistic_2d(z_[0, :, (1 - weights_full_2)[i, 0], 1]%(2*np.pi), z_[0, :, (1 - weights_full_2)[i, 0], 0]%(2*np.pi),\n",
    "                                                     grid_cell_data.item()['y_train'][i, :], statistic = 'mean',\n",
    "                                                     bins=torus_bins, range=None, expand_binnumbers=True)\n",
    "\n",
    "    ax.imshow(smooth_image(box_field,2.75), cmap='viridis')\n",
    "    ax.set_xlim(0, box_bins-2)\n",
    "    ax.set_ylim(0, box_bins-2)\n",
    "    ax.get_xaxis().set_visible(False)\n",
    "    ax.get_yaxis().set_visible(False)\n",
    "\n",
    "    bx.imshow(smooth_image(torus_field, 2.75), cmap='viridis')\n",
    "    t1 = (rfs_full[i, (1 - weights_full_2)[i, 0], 0]%(2*np.pi))*(torus_bins/(2*np.pi))\n",
    "    t2 = (rfs_full[i, (1 - weights_full_2)[i, 0], 1]%(2*np.pi))*(torus_bins/(2*np.pi))\n",
    "    bx.scatter(t1, t2, s=200, c='red', marker='o', edgecolor='black')\n",
    "    circ_1 = Circle((t1, t2), 1*rf_width*(torus_bins/(2*np.pi)), facecolor='None', edgecolor='black', lw=4, zorder=10, linestyle='-')\n",
    "    circ_2 = Circle((t1, t2), 1*rf_width*(torus_bins/(2*np.pi)), facecolor='None', edgecolor='red', lw=2, zorder=11, linestyle='-')\n",
    "    bx.add_patch(circ_1)\n",
    "    bx.add_patch(circ_2)\n",
    "\n",
    "    bx.scatter(t1-torus_bins, t2, s=200, c='red', marker='o', edgecolor='black')\n",
    "    bx.scatter(t1+torus_bins, t2, s=200, c='red', marker='o', edgecolor='black')\n",
    "    bx.scatter(t1, t2-torus_bins, s=200, c='red', marker='o', edgecolor='black')\n",
    "    bx.scatter(t1, t2+torus_bins, s=200, c='red', marker='o', edgecolor='black')\n",
    "    bx.scatter(t1-torus_bins, t2-torus_bins, s=200, c='red', marker='o', edgecolor='black')\n",
    "    bx.scatter(t1+torus_bins, t2-torus_bins, s=200, c='red', marker='o', edgecolor='black')\n",
    "    bx.scatter(t1-torus_bins, t2+torus_bins, s=200, c='red', marker='o', edgecolor='black')\n",
    "    bx.scatter(t1+torus_bins, t2+torus_bins, s=200, c='red', marker='o', edgecolor='black')\n",
    "\n",
    "    circ_11 = Circle((t1-torus_bins, t2), 1*rf_width*(torus_bins/(2*np.pi)), facecolor='None', edgecolor='black', lw=4, zorder=10, linestyle='-')\n",
    "    circ_21 = Circle((t1-torus_bins, t2), 1*rf_width*(torus_bins/(2*np.pi)), facecolor='None', edgecolor='red', lw=2, zorder=11, linestyle='-')\n",
    "    circ_12 = Circle((t1+torus_bins, t2), 1*rf_width*(torus_bins/(2*np.pi)), facecolor='None', edgecolor='black', lw=4, zorder=10, linestyle='-')\n",
    "    circ_22 = Circle((t1+torus_bins, t2), 1*rf_width*(torus_bins/(2*np.pi)), facecolor='None', edgecolor='red', lw=2, zorder=11, linestyle='-')\n",
    "    circ_13 = Circle((t1, t2-torus_bins), 1*rf_width*(torus_bins/(2*np.pi)), facecolor='None', edgecolor='black', lw=4, zorder=10, linestyle='-')\n",
    "    circ_23 = Circle((t1, t2-torus_bins), 1*rf_width*(torus_bins/(2*np.pi)), facecolor='None', edgecolor='red', lw=2, zorder=11, linestyle='-')\n",
    "    circ_14 = Circle((t1, t2+torus_bins), 1*rf_width*(torus_bins/(2*np.pi)), facecolor='None', edgecolor='black', lw=4, zorder=10, linestyle='-')\n",
    "    circ_24 = Circle((t1, t2+torus_bins), 1*rf_width*(torus_bins/(2*np.pi)), facecolor='None', edgecolor='red', lw=2, zorder=11, linestyle='-')\n",
    "    circ_15 = Circle((t1-torus_bins, t2-torus_bins), 1*rf_width*(torus_bins/(2*np.pi)), facecolor='None', edgecolor='black', lw=4, zorder=10, linestyle='-')\n",
    "    circ_25 = Circle((t1-torus_bins, t2-torus_bins), 1*rf_width*(torus_bins/(2*np.pi)), facecolor='None', edgecolor='red', lw=2, zorder=11, linestyle='-')\n",
    "    circ_16 = Circle((t1+torus_bins, t2-torus_bins), 1*rf_width*(torus_bins/(2*np.pi)), facecolor='None', edgecolor='black', lw=4, zorder=10, linestyle='-')\n",
    "    circ_26 = Circle((t1+torus_bins, t2-torus_bins), 1*rf_width*(torus_bins/(2*np.pi)), facecolor='None', edgecolor='red', lw=2, zorder=11, linestyle='-')\n",
    "    circ_17 = Circle((t1-torus_bins, t2+torus_bins), 1*rf_width*(torus_bins/(2*np.pi)), facecolor='None', edgecolor='black', lw=4, zorder=10, linestyle='-')\n",
    "    circ_27 = Circle((t1-torus_bins, t2+torus_bins), 1*rf_width*(torus_bins/(2*np.pi)), facecolor='None', edgecolor='red', lw=2, zorder=11, linestyle='-')\n",
    "    circ_18 = Circle((t1+torus_bins, t2+torus_bins), 1*rf_width*(torus_bins/(2*np.pi)), facecolor='None', edgecolor='black', lw=4, zorder=10, linestyle='-')\n",
    "    circ_28 = Circle((t1+torus_bins, t2+torus_bins), 1*rf_width*(torus_bins/(2*np.pi)), facecolor='None', edgecolor='red', lw=2, zorder=11, linestyle='-')\n",
    "\n",
    "    bx.add_patch(circ_11)\n",
    "    bx.add_patch(circ_12)\n",
    "    bx.add_patch(circ_13)\n",
    "    bx.add_patch(circ_14)\n",
    "    bx.add_patch(circ_15)\n",
    "    bx.add_patch(circ_16)\n",
    "    bx.add_patch(circ_17)\n",
    "    bx.add_patch(circ_18)\n",
    "    bx.add_patch(circ_21)\n",
    "    bx.add_patch(circ_22)\n",
    "    bx.add_patch(circ_23)\n",
    "    bx.add_patch(circ_24)\n",
    "    bx.add_patch(circ_25)\n",
    "    bx.add_patch(circ_26)\n",
    "    bx.add_patch(circ_27)\n",
    "    bx.add_patch(circ_28)\n",
    "\n",
    "    bx.set_xlim(0, torus_bins-2)\n",
    "    bx.set_ylim(0, torus_bins-2)\n",
    "    bx.get_xaxis().set_visible(False)\n",
    "    bx.get_yaxis().set_visible(False)\n",
    "    \n",
    "    if (i%149) == 0 or (i%149) == 1 or (i%149) == 2 or (i%149) == 3 or (i%149) == 4 or (i%149) == 5 or (i%149) == 6:\n",
    "      ax.set_title(\"Open Field\", fontsize=20)\n",
    "      bx.set_title(\"Toroidal\", fontsize=20)\n",
    "    \n",
    "    if i == 293 or i == 148:\n",
    "      fig.savefig(time.strftime(\"./plots/%Y-%m-%d-\") + \"All_rfs_\" + str(i) + \".pdf\")\n",
    "      print(\"done\")"
   ]
  }
 ],
 "metadata": {
  "accelerator": "GPU",
  "colab": {
   "authorship_tag": "ABX9TyNR7aXtOw/legGpJZzT429F",
   "collapsed_sections": [],
   "mount_file_id": "1xQ1W86tIxE9bKqlhcNTS9HL4825fhVOa",
   "name": "Fig7_and_app.ipynb",
   "provenance": []
  },
  "kernelspec": {
   "display_name": "Environment (conda_py36tg20)",
   "language": "python",
   "name": "conda_py36tg20"
  },
  "language_info": {
   "codemirror_mode": {
    "name": "ipython",
    "version": 3
   },
   "file_extension": ".py",
   "mimetype": "text/x-python",
   "name": "python",
   "nbconvert_exporter": "python",
   "pygments_lexer": "ipython3",
   "version": "3.6.10"
  }
 },
 "nbformat": 4,
 "nbformat_minor": 1
}
